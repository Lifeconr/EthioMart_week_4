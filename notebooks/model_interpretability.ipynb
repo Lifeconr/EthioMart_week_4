{
 "cells": [
  {
   "cell_type": "code",
   "execution_count": null,
   "id": "5108a975",
   "metadata": {
    "vscode": {
     "languageId": "plaintext"
    }
   },
   "outputs": [],
   "source": [
    "import shap\n",
    "import transformers\n",
    "import numpy as np\n"
   ]
  },
  {
   "cell_type": "code",
   "execution_count": null,
   "id": "f1c2b20b",
   "metadata": {
    "vscode": {
     "languageId": "plaintext"
    }
   },
   "outputs": [],
   "source": [
    "# Load best model\n",
    "model = AutoModelForTokenClassification.from_pretrained(\"models/xlm-roberta/final\")\n",
    "tokenizer = AutoTokenizer.from_pretrained(\"models/xlm-roberta/final\")\n",
    "\n",
    "# Create explainer\n",
    "explainer = shap.Explainer(model, tokenizer)"
   ]
  },
  {
   "cell_type": "code",
   "execution_count": null,
   "id": "eb2d29d2",
   "metadata": {
    "vscode": {
     "languageId": "plaintext"
    }
   },
   "outputs": [],
   "source": [
    "# Sample text\n",
    "sample_text = \"ለልጆች ጫማ በ350 ብር ከመቀሌ ድረስ\"\n"
   ]
  },
  {
   "cell_type": "code",
   "execution_count": null,
   "id": "76ffb16e",
   "metadata": {
    "vscode": {
     "languageId": "plaintext"
    }
   },
   "outputs": [],
   "source": [
    "# SHAP explanation\n",
    "shap_values = explainer([sample_text])"
   ]
  },
  {
   "cell_type": "code",
   "execution_count": null,
   "id": "0e11f2e3",
   "metadata": {
    "vscode": {
     "languageId": "plaintext"
    }
   },
   "outputs": [],
   "source": [
    "# Visualize\n",
    "shap.plots.text(shap_values)\n"
   ]
  },
  {
   "cell_type": "code",
   "execution_count": null,
   "id": "64f746aa",
   "metadata": {
    "vscode": {
     "languageId": "plaintext"
    }
   },
   "outputs": [],
   "source": [
    "# LIME explanation\n",
    "from lime.lime_text import LimeTextExplainer\n"
   ]
  },
  {
   "cell_type": "code",
   "execution_count": null,
   "id": "b1523baa",
   "metadata": {
    "vscode": {
     "languageId": "plaintext"
    }
   },
   "outputs": [],
   "source": [
    "def predict_proba(texts):\n",
    "    inputs = tokenizer(texts, return_tensors=\"pt\", padding=True, truncation=True)\n",
    "    outputs = model(**inputs)\n",
    "    probabilities = torch.nn.functional.softmax(outputs.logits, dim=-1)\n",
    "    return probabilities.detach().numpy()\n"
   ]
  },
  {
   "cell_type": "code",
   "execution_count": null,
   "id": "8d509049",
   "metadata": {
    "vscode": {
     "languageId": "plaintext"
    }
   },
   "outputs": [],
   "source": [
    "explainer = LimeTextExplainer(class_names=label_list)\n",
    "exp = explainer.explain_instance(sample_text, predict_proba, num_features=10, labels=[0,1,2])\n",
    "exp.show_in_notebook()"
   ]
  }
 ],
 "metadata": {
  "language_info": {
   "name": "python"
  }
 },
 "nbformat": 4,
 "nbformat_minor": 5
}
