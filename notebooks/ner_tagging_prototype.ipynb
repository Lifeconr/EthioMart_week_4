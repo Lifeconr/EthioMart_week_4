{
 "cells": [
  {
   "cell_type": "code",
   "execution_count": null,
   "id": "268b0883",
   "metadata": {
    "vscode": {
     "languageId": "plaintext"
    }
   },
   "outputs": [],
   "source": [
    "import re\n"
   ]
  },
  {
   "cell_type": "code",
   "execution_count": null,
   "id": "53bcb556",
   "metadata": {
    "vscode": {
     "languageId": "plaintext"
    }
   },
   "outputs": [],
   "source": [
    "# Sample message (replace this with your actual message text)\n",
    "text = \"\"\"\n",
    "📌 Imitation Volcano Humidifier with LED Light\n",
    "ዋጋ፦ 💲🏷 1400 ብር\n",
    "\"\"\""
   ]
  },
  {
   "cell_type": "code",
   "execution_count": null,
   "id": "82354bcb",
   "metadata": {
    "vscode": {
     "languageId": "plaintext"
    }
   },
   "outputs": [],
   "source": [
    "# Simple NER tagging logic\n",
    "def tag_text(text):\n",
    "    lines = text.split('\\n')\n",
    "    tagged_tokens = []\n",
    "\n",
    "    for line in lines:\n",
    "        if \"ዋጋ\" in line or \"💲\" in line:\n",
    "            price_match = re.findall(r\"\\d+(?:,\\d+)?\", line)\n",
    "            if price_match:\n",
    "                for i, token in enumerate(line.split()):\n",
    "                    if token.strip().isdigit() or any(c.isdigit() for c in token):\n",
    "                        tagged_tokens.append((token, 'B-PRICE' if i == 0 else 'I-PRICE'))\n",
    "                    else:\n",
    "                        tagged_tokens.append((token, 'O'))\n",
    "        elif \"📌\" in line:\n",
    "            tokens = line.replace(\"📌\", \"\").split()\n",
    "            for i, token in enumerate(tokens):\n",
    "                tag = \"B-PRODUCT\" if i == 0 else \"I-PRODUCT\"\n",
    "                tagged_tokens.append((token, tag))\n",
    "        else:\n",
    "            for token in line.split():\n",
    "                tagged_tokens.append((token, 'O'))\n",
    "\n",
    "    return tagged_tokens"
   ]
  },
  {
   "cell_type": "code",
   "execution_count": null,
   "id": "f13a2cdd",
   "metadata": {
    "vscode": {
     "languageId": "plaintext"
    }
   },
   "outputs": [],
   "source": [
    "\n",
    "# Apply the function and print in CoNLL format\n",
    "tagged = tag_text(text)\n",
    "\n",
    "for word, tag in tagged:\n",
    "    print(f\"{word}\\t{tag}\")"
   ]
  }
 ],
 "metadata": {
  "language_info": {
   "name": "python"
  }
 },
 "nbformat": 4,
 "nbformat_minor": 5
}
